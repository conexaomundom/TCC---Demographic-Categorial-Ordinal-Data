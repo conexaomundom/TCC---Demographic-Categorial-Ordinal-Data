{
  "nbformat": 4,
  "nbformat_minor": 0,
  "metadata": {
    "colab": {
      "provenance": [],
      "authorship_tag": "ABX9TyMF5euBlvr5jffRv3iJW039",
      "include_colab_link": true
    },
    "kernelspec": {
      "name": "python3",
      "display_name": "Python 3"
    },
    "language_info": {
      "name": "python"
    }
  },
  "cells": [
    {
      "cell_type": "markdown",
      "metadata": {
        "id": "view-in-github",
        "colab_type": "text"
      },
      "source": [
        "<a href=\"https://colab.research.google.com/github/conexaomundom/TCC---Demographic-Categorial-Ordinal-Data-Regression-Model/blob/main/Categorical_Model.ipynb\" target=\"_parent\"><img src=\"https://colab.research.google.com/assets/colab-badge.svg\" alt=\"Open In Colab\"/></a>"
      ]
    },
    {
      "cell_type": "code",
      "execution_count": 33,
      "metadata": {
        "colab": {
          "base_uri": "https://localhost:8080/"
        },
        "id": "4yf-3FE2NcP8",
        "outputId": "2ed695f2-1faf-4019-8dd2-6ccddfe64d76"
      },
      "outputs": [
        {
          "output_type": "stream",
          "name": "stdout",
          "text": [
            "The rpy2.ipython extension is already loaded. To reload it, use:\n",
            "  %reload_ext rpy2.ipython\n"
          ]
        }
      ],
      "source": [
        "########## MODELO PARA DADOS CATEGORICOS ORDINAIS  ##########\n",
        "\n",
        "%load_ext rpy2.ipython\n",
        "\n"
      ]
    },
    {
      "cell_type": "code",
      "source": [
        "%%R\n",
        "install.packages(\"MASS\")\n",
        "install.packages(\"sure\")"
      ],
      "metadata": {
        "colab": {
          "base_uri": "https://localhost:8080/"
        },
        "id": "XL9vvzL7NrrR",
        "outputId": "67e111af-489d-4e07-b28c-135fd5e14948",
        "collapsed": true
      },
      "execution_count": 34,
      "outputs": [
        {
          "output_type": "stream",
          "name": "stderr",
          "text": [
            "WARNING:rpy2.rinterface_lib.callbacks:R[write to console]: Installing package into ‘/usr/local/lib/R/site-library’\n",
            "(as ‘lib’ is unspecified)\n",
            "\n",
            "WARNING:rpy2.rinterface_lib.callbacks:R[write to console]: trying URL 'https://cran.rstudio.com/src/contrib/MASS_7.3-61.tar.gz'\n",
            "\n",
            "WARNING:rpy2.rinterface_lib.callbacks:R[write to console]: Content type 'application/x-gzip'\n",
            "WARNING:rpy2.rinterface_lib.callbacks:R[write to console]:  length 509902 bytes (497 KB)\n",
            "\n",
            "WARNING:rpy2.rinterface_lib.callbacks:R[write to console]: =\n",
            "WARNING:rpy2.rinterface_lib.callbacks:R[write to console]: =\n",
            "WARNING:rpy2.rinterface_lib.callbacks:R[write to console]: =\n",
            "WARNING:rpy2.rinterface_lib.callbacks:R[write to console]: =\n",
            "WARNING:rpy2.rinterface_lib.callbacks:R[write to console]: =\n",
            "WARNING:rpy2.rinterface_lib.callbacks:R[write to console]: =\n",
            "WARNING:rpy2.rinterface_lib.callbacks:R[write to console]: =\n",
            "WARNING:rpy2.rinterface_lib.callbacks:R[write to console]: =\n",
            "WARNING:rpy2.rinterface_lib.callbacks:R[write to console]: =\n",
            "WARNING:rpy2.rinterface_lib.callbacks:R[write to console]: =\n",
            "WARNING:rpy2.rinterface_lib.callbacks:R[write to console]: =\n",
            "WARNING:rpy2.rinterface_lib.callbacks:R[write to console]: =\n",
            "WARNING:rpy2.rinterface_lib.callbacks:R[write to console]: =\n",
            "WARNING:rpy2.rinterface_lib.callbacks:R[write to console]: =\n",
            "WARNING:rpy2.rinterface_lib.callbacks:R[write to console]: =\n",
            "WARNING:rpy2.rinterface_lib.callbacks:R[write to console]: =\n",
            "WARNING:rpy2.rinterface_lib.callbacks:R[write to console]: =\n",
            "WARNING:rpy2.rinterface_lib.callbacks:R[write to console]: =\n",
            "WARNING:rpy2.rinterface_lib.callbacks:R[write to console]: =\n",
            "WARNING:rpy2.rinterface_lib.callbacks:R[write to console]: =\n",
            "WARNING:rpy2.rinterface_lib.callbacks:R[write to console]: =\n",
            "WARNING:rpy2.rinterface_lib.callbacks:R[write to console]: =\n",
            "WARNING:rpy2.rinterface_lib.callbacks:R[write to console]: =\n",
            "WARNING:rpy2.rinterface_lib.callbacks:R[write to console]: =\n",
            "WARNING:rpy2.rinterface_lib.callbacks:R[write to console]: =\n",
            "WARNING:rpy2.rinterface_lib.callbacks:R[write to console]: =\n",
            "WARNING:rpy2.rinterface_lib.callbacks:R[write to console]: =\n",
            "WARNING:rpy2.rinterface_lib.callbacks:R[write to console]: =\n",
            "WARNING:rpy2.rinterface_lib.callbacks:R[write to console]: =\n",
            "WARNING:rpy2.rinterface_lib.callbacks:R[write to console]: =\n",
            "WARNING:rpy2.rinterface_lib.callbacks:R[write to console]: =\n",
            "WARNING:rpy2.rinterface_lib.callbacks:R[write to console]: =\n",
            "WARNING:rpy2.rinterface_lib.callbacks:R[write to console]: =\n",
            "WARNING:rpy2.rinterface_lib.callbacks:R[write to console]: =\n",
            "WARNING:rpy2.rinterface_lib.callbacks:R[write to console]: =\n",
            "WARNING:rpy2.rinterface_lib.callbacks:R[write to console]: =\n",
            "WARNING:rpy2.rinterface_lib.callbacks:R[write to console]: =\n",
            "WARNING:rpy2.rinterface_lib.callbacks:R[write to console]: =\n",
            "WARNING:rpy2.rinterface_lib.callbacks:R[write to console]: =\n",
            "WARNING:rpy2.rinterface_lib.callbacks:R[write to console]: =\n",
            "WARNING:rpy2.rinterface_lib.callbacks:R[write to console]: =\n",
            "WARNING:rpy2.rinterface_lib.callbacks:R[write to console]: =\n",
            "WARNING:rpy2.rinterface_lib.callbacks:R[write to console]: =\n",
            "WARNING:rpy2.rinterface_lib.callbacks:R[write to console]: =\n",
            "WARNING:rpy2.rinterface_lib.callbacks:R[write to console]: =\n",
            "WARNING:rpy2.rinterface_lib.callbacks:R[write to console]: =\n",
            "WARNING:rpy2.rinterface_lib.callbacks:R[write to console]: =\n",
            "WARNING:rpy2.rinterface_lib.callbacks:R[write to console]: =\n",
            "WARNING:rpy2.rinterface_lib.callbacks:R[write to console]: =\n",
            "WARNING:rpy2.rinterface_lib.callbacks:R[write to console]: =\n",
            "WARNING:rpy2.rinterface_lib.callbacks:R[write to console]: \n",
            "\n",
            "WARNING:rpy2.rinterface_lib.callbacks:R[write to console]: downloaded 497 KB\n",
            "\n",
            "\n",
            "WARNING:rpy2.rinterface_lib.callbacks:R[write to console]: \n",
            "\n",
            "WARNING:rpy2.rinterface_lib.callbacks:R[write to console]: \n",
            "WARNING:rpy2.rinterface_lib.callbacks:R[write to console]: The downloaded source packages are in\n",
            "\t‘/tmp/RtmpNPFlYY/downloaded_packages’\n",
            "WARNING:rpy2.rinterface_lib.callbacks:R[write to console]: \n",
            "WARNING:rpy2.rinterface_lib.callbacks:R[write to console]: \n",
            "\n",
            "WARNING:rpy2.rinterface_lib.callbacks:R[write to console]: Installing package into ‘/usr/local/lib/R/site-library’\n",
            "(as ‘lib’ is unspecified)\n",
            "\n",
            "WARNING:rpy2.rinterface_lib.callbacks:R[write to console]: trying URL 'https://cran.rstudio.com/src/contrib/sure_0.2.0.tar.gz'\n",
            "\n",
            "WARNING:rpy2.rinterface_lib.callbacks:R[write to console]: Content type 'application/x-gzip'\n",
            "WARNING:rpy2.rinterface_lib.callbacks:R[write to console]:  length 179988 bytes (175 KB)\n",
            "\n",
            "WARNING:rpy2.rinterface_lib.callbacks:R[write to console]: =\n",
            "WARNING:rpy2.rinterface_lib.callbacks:R[write to console]: =\n",
            "WARNING:rpy2.rinterface_lib.callbacks:R[write to console]: =\n",
            "WARNING:rpy2.rinterface_lib.callbacks:R[write to console]: =\n",
            "WARNING:rpy2.rinterface_lib.callbacks:R[write to console]: =\n",
            "WARNING:rpy2.rinterface_lib.callbacks:R[write to console]: =\n",
            "WARNING:rpy2.rinterface_lib.callbacks:R[write to console]: =\n",
            "WARNING:rpy2.rinterface_lib.callbacks:R[write to console]: =\n",
            "WARNING:rpy2.rinterface_lib.callbacks:R[write to console]: =\n",
            "WARNING:rpy2.rinterface_lib.callbacks:R[write to console]: =\n",
            "WARNING:rpy2.rinterface_lib.callbacks:R[write to console]: =\n",
            "WARNING:rpy2.rinterface_lib.callbacks:R[write to console]: =\n",
            "WARNING:rpy2.rinterface_lib.callbacks:R[write to console]: =\n",
            "WARNING:rpy2.rinterface_lib.callbacks:R[write to console]: =\n",
            "WARNING:rpy2.rinterface_lib.callbacks:R[write to console]: =\n",
            "WARNING:rpy2.rinterface_lib.callbacks:R[write to console]: =\n",
            "WARNING:rpy2.rinterface_lib.callbacks:R[write to console]: =\n",
            "WARNING:rpy2.rinterface_lib.callbacks:R[write to console]: =\n",
            "WARNING:rpy2.rinterface_lib.callbacks:R[write to console]: =\n",
            "WARNING:rpy2.rinterface_lib.callbacks:R[write to console]: =\n",
            "WARNING:rpy2.rinterface_lib.callbacks:R[write to console]: =\n",
            "WARNING:rpy2.rinterface_lib.callbacks:R[write to console]: =\n",
            "WARNING:rpy2.rinterface_lib.callbacks:R[write to console]: =\n",
            "WARNING:rpy2.rinterface_lib.callbacks:R[write to console]: =\n",
            "WARNING:rpy2.rinterface_lib.callbacks:R[write to console]: =\n",
            "WARNING:rpy2.rinterface_lib.callbacks:R[write to console]: =\n",
            "WARNING:rpy2.rinterface_lib.callbacks:R[write to console]: =\n",
            "WARNING:rpy2.rinterface_lib.callbacks:R[write to console]: =\n",
            "WARNING:rpy2.rinterface_lib.callbacks:R[write to console]: =\n",
            "WARNING:rpy2.rinterface_lib.callbacks:R[write to console]: =\n",
            "WARNING:rpy2.rinterface_lib.callbacks:R[write to console]: =\n",
            "WARNING:rpy2.rinterface_lib.callbacks:R[write to console]: =\n",
            "WARNING:rpy2.rinterface_lib.callbacks:R[write to console]: =\n",
            "WARNING:rpy2.rinterface_lib.callbacks:R[write to console]: =\n",
            "WARNING:rpy2.rinterface_lib.callbacks:R[write to console]: =\n",
            "WARNING:rpy2.rinterface_lib.callbacks:R[write to console]: =\n",
            "WARNING:rpy2.rinterface_lib.callbacks:R[write to console]: =\n",
            "WARNING:rpy2.rinterface_lib.callbacks:R[write to console]: =\n",
            "WARNING:rpy2.rinterface_lib.callbacks:R[write to console]: =\n",
            "WARNING:rpy2.rinterface_lib.callbacks:R[write to console]: =\n",
            "WARNING:rpy2.rinterface_lib.callbacks:R[write to console]: =\n",
            "WARNING:rpy2.rinterface_lib.callbacks:R[write to console]: =\n",
            "WARNING:rpy2.rinterface_lib.callbacks:R[write to console]: =\n",
            "WARNING:rpy2.rinterface_lib.callbacks:R[write to console]: =\n",
            "WARNING:rpy2.rinterface_lib.callbacks:R[write to console]: =\n",
            "WARNING:rpy2.rinterface_lib.callbacks:R[write to console]: =\n",
            "WARNING:rpy2.rinterface_lib.callbacks:R[write to console]: =\n",
            "WARNING:rpy2.rinterface_lib.callbacks:R[write to console]: =\n",
            "WARNING:rpy2.rinterface_lib.callbacks:R[write to console]: =\n",
            "WARNING:rpy2.rinterface_lib.callbacks:R[write to console]: =\n",
            "WARNING:rpy2.rinterface_lib.callbacks:R[write to console]: \n",
            "\n",
            "WARNING:rpy2.rinterface_lib.callbacks:R[write to console]: downloaded 175 KB\n",
            "\n",
            "\n",
            "WARNING:rpy2.rinterface_lib.callbacks:R[write to console]: \n",
            "\n",
            "WARNING:rpy2.rinterface_lib.callbacks:R[write to console]: \n",
            "WARNING:rpy2.rinterface_lib.callbacks:R[write to console]: The downloaded source packages are in\n",
            "\t‘/tmp/RtmpNPFlYY/downloaded_packages’\n",
            "WARNING:rpy2.rinterface_lib.callbacks:R[write to console]: \n",
            "WARNING:rpy2.rinterface_lib.callbacks:R[write to console]: \n",
            "\n"
          ]
        }
      ]
    },
    {
      "cell_type": "code",
      "source": [
        "%%R\n",
        "load(\"/content/PB2016.Rda\")\n",
        "PB2016 <- PB2016[(which(PB2016$`Faixa Remun Média (SM)` != 99)), ] # 11774\n",
        "PB2016$`Raça Cor`[which(PB2016$`Raça Cor` == 9)] <- 99\n",
        "nrow(PB2016)"
      ],
      "metadata": {
        "colab": {
          "base_uri": "https://localhost:8080/"
        },
        "collapsed": true,
        "id": "CtN43sirNvlo",
        "outputId": "f1585aa0-ff92-4691-e0fc-61b46a48dec0"
      },
      "execution_count": 35,
      "outputs": [
        {
          "output_type": "stream",
          "name": "stdout",
          "text": [
            "[1] 819849\n"
          ]
        }
      ]
    },
    {
      "cell_type": "code",
      "source": [
        "# probit\n",
        "\n",
        "%%R\n",
        "library(\"MASS\")\n",
        "PB2016$`Faixa Etária`[which(PB2016$`Faixa Etária` == 2)] <- 1\n",
        "\n",
        "#                                          Estimate  Std. Error   t value   Pr(>|t|)\n",
        "# as.factor(`Faixa Etária`)2            -0.00367368  0.02665775   -0.1378   0.8903914\n",
        "modelo_polr <- polr(as.factor(`Faixa Remun Média (SM)`) ~ as.factor(`Sexo Trabalhador`) +\n",
        "                      as.factor(`Faixa Etária`) +  as.factor(`Escolaridade após 2005`) +\n",
        "                      `Qtd Hora Contr` + as.factor(`Raça Cor`), data = PB2016,\n",
        "                       method = \"probit\")"
      ],
      "metadata": {
        "id": "PvutXSpxNxIf"
      },
      "execution_count": 36,
      "outputs": []
    },
    {
      "cell_type": "code",
      "source": [
        "%%R\n",
        "install.packages(\"lmtest\")\n",
        "\n"
      ],
      "metadata": {
        "colab": {
          "base_uri": "https://localhost:8080/"
        },
        "id": "u1tVdEGrOaB5",
        "outputId": "a5d2f7e0-2c2a-47ae-f14d-8dbc352ff2c3",
        "collapsed": true
      },
      "execution_count": 37,
      "outputs": [
        {
          "output_type": "stream",
          "name": "stderr",
          "text": [
            "WARNING:rpy2.rinterface_lib.callbacks:R[write to console]: Installing package into ‘/usr/local/lib/R/site-library’\n",
            "(as ‘lib’ is unspecified)\n",
            "\n",
            "WARNING:rpy2.rinterface_lib.callbacks:R[write to console]: trying URL 'https://cran.rstudio.com/src/contrib/lmtest_0.9-40.tar.gz'\n",
            "\n",
            "WARNING:rpy2.rinterface_lib.callbacks:R[write to console]: Content type 'application/x-gzip'\n",
            "WARNING:rpy2.rinterface_lib.callbacks:R[write to console]:  length 230313 bytes (224 KB)\n",
            "\n",
            "WARNING:rpy2.rinterface_lib.callbacks:R[write to console]: =\n",
            "WARNING:rpy2.rinterface_lib.callbacks:R[write to console]: =\n",
            "WARNING:rpy2.rinterface_lib.callbacks:R[write to console]: =\n",
            "WARNING:rpy2.rinterface_lib.callbacks:R[write to console]: =\n",
            "WARNING:rpy2.rinterface_lib.callbacks:R[write to console]: =\n",
            "WARNING:rpy2.rinterface_lib.callbacks:R[write to console]: =\n",
            "WARNING:rpy2.rinterface_lib.callbacks:R[write to console]: =\n",
            "WARNING:rpy2.rinterface_lib.callbacks:R[write to console]: =\n",
            "WARNING:rpy2.rinterface_lib.callbacks:R[write to console]: =\n",
            "WARNING:rpy2.rinterface_lib.callbacks:R[write to console]: =\n",
            "WARNING:rpy2.rinterface_lib.callbacks:R[write to console]: =\n",
            "WARNING:rpy2.rinterface_lib.callbacks:R[write to console]: =\n",
            "WARNING:rpy2.rinterface_lib.callbacks:R[write to console]: =\n",
            "WARNING:rpy2.rinterface_lib.callbacks:R[write to console]: =\n",
            "WARNING:rpy2.rinterface_lib.callbacks:R[write to console]: =\n",
            "WARNING:rpy2.rinterface_lib.callbacks:R[write to console]: =\n",
            "WARNING:rpy2.rinterface_lib.callbacks:R[write to console]: =\n",
            "WARNING:rpy2.rinterface_lib.callbacks:R[write to console]: =\n",
            "WARNING:rpy2.rinterface_lib.callbacks:R[write to console]: =\n",
            "WARNING:rpy2.rinterface_lib.callbacks:R[write to console]: =\n",
            "WARNING:rpy2.rinterface_lib.callbacks:R[write to console]: =\n",
            "WARNING:rpy2.rinterface_lib.callbacks:R[write to console]: =\n",
            "WARNING:rpy2.rinterface_lib.callbacks:R[write to console]: =\n",
            "WARNING:rpy2.rinterface_lib.callbacks:R[write to console]: =\n",
            "WARNING:rpy2.rinterface_lib.callbacks:R[write to console]: =\n",
            "WARNING:rpy2.rinterface_lib.callbacks:R[write to console]: =\n",
            "WARNING:rpy2.rinterface_lib.callbacks:R[write to console]: =\n",
            "WARNING:rpy2.rinterface_lib.callbacks:R[write to console]: =\n",
            "WARNING:rpy2.rinterface_lib.callbacks:R[write to console]: =\n",
            "WARNING:rpy2.rinterface_lib.callbacks:R[write to console]: =\n",
            "WARNING:rpy2.rinterface_lib.callbacks:R[write to console]: =\n",
            "WARNING:rpy2.rinterface_lib.callbacks:R[write to console]: =\n",
            "WARNING:rpy2.rinterface_lib.callbacks:R[write to console]: =\n",
            "WARNING:rpy2.rinterface_lib.callbacks:R[write to console]: =\n",
            "WARNING:rpy2.rinterface_lib.callbacks:R[write to console]: =\n",
            "WARNING:rpy2.rinterface_lib.callbacks:R[write to console]: =\n",
            "WARNING:rpy2.rinterface_lib.callbacks:R[write to console]: =\n",
            "WARNING:rpy2.rinterface_lib.callbacks:R[write to console]: =\n",
            "WARNING:rpy2.rinterface_lib.callbacks:R[write to console]: =\n",
            "WARNING:rpy2.rinterface_lib.callbacks:R[write to console]: =\n",
            "WARNING:rpy2.rinterface_lib.callbacks:R[write to console]: =\n",
            "WARNING:rpy2.rinterface_lib.callbacks:R[write to console]: =\n",
            "WARNING:rpy2.rinterface_lib.callbacks:R[write to console]: =\n",
            "WARNING:rpy2.rinterface_lib.callbacks:R[write to console]: =\n",
            "WARNING:rpy2.rinterface_lib.callbacks:R[write to console]: =\n",
            "WARNING:rpy2.rinterface_lib.callbacks:R[write to console]: =\n",
            "WARNING:rpy2.rinterface_lib.callbacks:R[write to console]: =\n",
            "WARNING:rpy2.rinterface_lib.callbacks:R[write to console]: =\n",
            "WARNING:rpy2.rinterface_lib.callbacks:R[write to console]: =\n",
            "WARNING:rpy2.rinterface_lib.callbacks:R[write to console]: =\n",
            "WARNING:rpy2.rinterface_lib.callbacks:R[write to console]: \n",
            "\n",
            "WARNING:rpy2.rinterface_lib.callbacks:R[write to console]: downloaded 224 KB\n",
            "\n",
            "\n",
            "WARNING:rpy2.rinterface_lib.callbacks:R[write to console]: \n",
            "\n",
            "WARNING:rpy2.rinterface_lib.callbacks:R[write to console]: \n",
            "WARNING:rpy2.rinterface_lib.callbacks:R[write to console]: The downloaded source packages are in\n",
            "\t‘/tmp/RtmpNPFlYY/downloaded_packages’\n",
            "WARNING:rpy2.rinterface_lib.callbacks:R[write to console]: \n",
            "WARNING:rpy2.rinterface_lib.callbacks:R[write to console]: \n",
            "\n"
          ]
        }
      ]
    },
    {
      "cell_type": "code",
      "source": [
        "%%R\n",
        "library(lmtest)\n",
        "round(coeftest(modelo_polr),4)\n",
        "\n"
      ],
      "metadata": {
        "colab": {
          "base_uri": "https://localhost:8080/"
        },
        "id": "WuFEOn9dO_WU",
        "outputId": "3ec94b40-c592-44c7-a17b-2d02aa29ed1f",
        "collapsed": true
      },
      "execution_count": 38,
      "outputs": [
        {
          "output_type": "stream",
          "name": "stderr",
          "text": [
            "WARNING:rpy2.rinterface_lib.callbacks:R[write to console]: \n",
            "Re-fitting to get Hessian\n",
            "\n",
            "\n"
          ]
        },
        {
          "output_type": "stream",
          "name": "stdout",
          "text": [
            "\n",
            "t test of coefficients:\n",
            "\n",
            "                                      Estimate Std. Error   t value Pr(>|t|)\n",
            "as.factor(`Sexo Trabalhador`)2         -0.2788     0.0025 -110.6248   <2e-16\n",
            "as.factor(`Faixa Etária`)3              0.7826     0.0299   26.1862   <2e-16\n",
            "as.factor(`Faixa Etária`)4              1.0799     0.0299   36.1183   <2e-16\n",
            "as.factor(`Faixa Etária`)5              1.2885     0.0298   43.1958   <2e-16\n",
            "as.factor(`Faixa Etária`)6              1.4067     0.0299   47.0874   <2e-16\n",
            "as.factor(`Faixa Etária`)7              1.6646     0.0299   55.6260   <2e-16\n",
            "as.factor(`Faixa Etária`)8              1.9351     0.0314   61.7236   <2e-16\n",
            "as.factor(`Faixa Etária`)99             1.3843     0.0010 1356.2199   <2e-16\n",
            "as.factor(`Escolaridade após 2005`)2    0.2275     0.0131   17.4033   <2e-16\n",
            "as.factor(`Escolaridade após 2005`)3    0.1937     0.0139   13.9522   <2e-16\n",
            "as.factor(`Escolaridade após 2005`)4    0.2675     0.0129   20.7697   <2e-16\n",
            "as.factor(`Escolaridade após 2005`)5    0.4955     0.0123   40.1936   <2e-16\n",
            "as.factor(`Escolaridade após 2005`)6    0.2506     0.0129   19.3863   <2e-16\n",
            "as.factor(`Escolaridade após 2005`)7    0.4600     0.0120   38.3383   <2e-16\n",
            "as.factor(`Escolaridade após 2005`)8    0.8690     0.0136   63.9541   <2e-16\n",
            "as.factor(`Escolaridade após 2005`)9    1.5795     0.0123  128.4145   <2e-16\n",
            "as.factor(`Escolaridade após 2005`)10   2.1948     0.0195  112.8300   <2e-16\n",
            "as.factor(`Escolaridade após 2005`)11   2.6419     0.0261  101.0951   <2e-16\n",
            "`Qtd Hora Contr`                        0.0189     0.0002   97.9622   <2e-16\n",
            "as.factor(`Raça Cor`)2                  0.1270     0.0343    3.7022   0.0002\n",
            "as.factor(`Raça Cor`)4                  0.0788     0.0351    2.2444   0.0248\n",
            "as.factor(`Raça Cor`)6                  0.0934     0.0371    2.5153   0.0119\n",
            "as.factor(`Raça Cor`)8                  0.1466     0.0343    4.2787   <2e-16\n",
            "as.factor(`Raça Cor`)99                 0.1877     0.0343    5.4748   <2e-16\n",
            "                                         \n",
            "as.factor(`Sexo Trabalhador`)2        ***\n",
            "as.factor(`Faixa Etária`)3            ***\n",
            "as.factor(`Faixa Etária`)4            ***\n",
            "as.factor(`Faixa Etária`)5            ***\n",
            "as.factor(`Faixa Etária`)6            ***\n",
            "as.factor(`Faixa Etária`)7            ***\n",
            "as.factor(`Faixa Etária`)8            ***\n",
            "as.factor(`Faixa Etária`)99           ***\n",
            "as.factor(`Escolaridade após 2005`)2  ***\n",
            "as.factor(`Escolaridade após 2005`)3  ***\n",
            "as.factor(`Escolaridade após 2005`)4  ***\n",
            "as.factor(`Escolaridade após 2005`)5  ***\n",
            "as.factor(`Escolaridade após 2005`)6  ***\n",
            "as.factor(`Escolaridade após 2005`)7  ***\n",
            "as.factor(`Escolaridade após 2005`)8  ***\n",
            "as.factor(`Escolaridade após 2005`)9  ***\n",
            "as.factor(`Escolaridade após 2005`)10 ***\n",
            "as.factor(`Escolaridade após 2005`)11 ***\n",
            "`Qtd Hora Contr`                      ***\n",
            "as.factor(`Raça Cor`)2                ***\n",
            "as.factor(`Raça Cor`)4                *  \n",
            "as.factor(`Raça Cor`)6                *  \n",
            "as.factor(`Raça Cor`)8                ***\n",
            "as.factor(`Raça Cor`)99               ***\n",
            "---\n",
            "Signif. codes:  0 ‘***’ 0.001 ‘**’ 0.01 ‘*’ 0.05 ‘.’ 0.1 ‘ ’ 1\n",
            "\n"
          ]
        }
      ]
    },
    {
      "cell_type": "code",
      "source": [
        "%%R\n",
        "length(as.numeric(PB2016$`Faixa Remun Média (SM)`)) # 819849\n",
        "length(modelo_polr$fitted.values) #9838188\n",
        "# para as 12 variáveis 9838188/819849 = 12\n",
        "\n",
        "fit <- fitted(modelo_polr)\n",
        "\n",
        "\n",
        "fit_df <- as.data.frame(fit)"
      ],
      "metadata": {
        "id": "W6URgUNGPBXI"
      },
      "execution_count": 10,
      "outputs": []
    },
    {
      "cell_type": "code",
      "source": [
        "%%R\n",
        "# O que antes era probabilidade agora é classificacao.\n",
        "y_hat <- NULL\n",
        "for(i in 1:nrow(fit)){\n",
        "    coluna <- NA\n",
        "    for(j in 1:ncol(fit)){\n",
        "      if(max(fit[i, ]) == fit[i,j]) coluna <- j\n",
        "    }\n",
        "  y_hat[i] <- coluna\n",
        "}\n",
        "levels(as.factor(y_hat))"
      ],
      "metadata": {
        "colab": {
          "base_uri": "https://localhost:8080/"
        },
        "id": "WN_MgMeNPbfw",
        "outputId": "10f2d34d-2a98-4382-eb07-8bead6e778e1"
      },
      "execution_count": 11,
      "outputs": [
        {
          "output_type": "stream",
          "name": "stdout",
          "text": [
            "[1] \"2\"  \"3\"  \"5\"  \"10\" \"12\"\n"
          ]
        }
      ]
    },
    {
      "cell_type": "code",
      "source": [
        "%%R\n",
        "install.packages(\"xtable\")"
      ],
      "metadata": {
        "colab": {
          "base_uri": "https://localhost:8080/"
        },
        "id": "QsUtnqXuPfN_",
        "outputId": "825d4636-9a49-4dbd-e233-6dac1438a41b",
        "collapsed": true
      },
      "execution_count": 12,
      "outputs": [
        {
          "output_type": "stream",
          "name": "stderr",
          "text": [
            "WARNING:rpy2.rinterface_lib.callbacks:R[write to console]: Installing package into ‘/usr/local/lib/R/site-library’\n",
            "(as ‘lib’ is unspecified)\n",
            "\n",
            "WARNING:rpy2.rinterface_lib.callbacks:R[write to console]: trying URL 'https://cran.rstudio.com/src/contrib/xtable_1.8-4.tar.gz'\n",
            "\n",
            "WARNING:rpy2.rinterface_lib.callbacks:R[write to console]: Content type 'application/x-gzip'\n",
            "WARNING:rpy2.rinterface_lib.callbacks:R[write to console]:  length 564589 bytes (551 KB)\n",
            "\n",
            "WARNING:rpy2.rinterface_lib.callbacks:R[write to console]: =\n",
            "WARNING:rpy2.rinterface_lib.callbacks:R[write to console]: =\n",
            "WARNING:rpy2.rinterface_lib.callbacks:R[write to console]: =\n",
            "WARNING:rpy2.rinterface_lib.callbacks:R[write to console]: =\n",
            "WARNING:rpy2.rinterface_lib.callbacks:R[write to console]: =\n",
            "WARNING:rpy2.rinterface_lib.callbacks:R[write to console]: =\n",
            "WARNING:rpy2.rinterface_lib.callbacks:R[write to console]: =\n",
            "WARNING:rpy2.rinterface_lib.callbacks:R[write to console]: =\n",
            "WARNING:rpy2.rinterface_lib.callbacks:R[write to console]: =\n",
            "WARNING:rpy2.rinterface_lib.callbacks:R[write to console]: =\n",
            "WARNING:rpy2.rinterface_lib.callbacks:R[write to console]: =\n",
            "WARNING:rpy2.rinterface_lib.callbacks:R[write to console]: =\n",
            "WARNING:rpy2.rinterface_lib.callbacks:R[write to console]: =\n",
            "WARNING:rpy2.rinterface_lib.callbacks:R[write to console]: =\n",
            "WARNING:rpy2.rinterface_lib.callbacks:R[write to console]: =\n",
            "WARNING:rpy2.rinterface_lib.callbacks:R[write to console]: =\n",
            "WARNING:rpy2.rinterface_lib.callbacks:R[write to console]: =\n",
            "WARNING:rpy2.rinterface_lib.callbacks:R[write to console]: =\n",
            "WARNING:rpy2.rinterface_lib.callbacks:R[write to console]: =\n",
            "WARNING:rpy2.rinterface_lib.callbacks:R[write to console]: =\n",
            "WARNING:rpy2.rinterface_lib.callbacks:R[write to console]: =\n",
            "WARNING:rpy2.rinterface_lib.callbacks:R[write to console]: =\n",
            "WARNING:rpy2.rinterface_lib.callbacks:R[write to console]: =\n",
            "WARNING:rpy2.rinterface_lib.callbacks:R[write to console]: =\n",
            "WARNING:rpy2.rinterface_lib.callbacks:R[write to console]: =\n",
            "WARNING:rpy2.rinterface_lib.callbacks:R[write to console]: =\n",
            "WARNING:rpy2.rinterface_lib.callbacks:R[write to console]: =\n",
            "WARNING:rpy2.rinterface_lib.callbacks:R[write to console]: =\n",
            "WARNING:rpy2.rinterface_lib.callbacks:R[write to console]: =\n",
            "WARNING:rpy2.rinterface_lib.callbacks:R[write to console]: =\n",
            "WARNING:rpy2.rinterface_lib.callbacks:R[write to console]: =\n",
            "WARNING:rpy2.rinterface_lib.callbacks:R[write to console]: =\n",
            "WARNING:rpy2.rinterface_lib.callbacks:R[write to console]: =\n",
            "WARNING:rpy2.rinterface_lib.callbacks:R[write to console]: =\n",
            "WARNING:rpy2.rinterface_lib.callbacks:R[write to console]: =\n",
            "WARNING:rpy2.rinterface_lib.callbacks:R[write to console]: =\n",
            "WARNING:rpy2.rinterface_lib.callbacks:R[write to console]: =\n",
            "WARNING:rpy2.rinterface_lib.callbacks:R[write to console]: =\n",
            "WARNING:rpy2.rinterface_lib.callbacks:R[write to console]: =\n",
            "WARNING:rpy2.rinterface_lib.callbacks:R[write to console]: =\n",
            "WARNING:rpy2.rinterface_lib.callbacks:R[write to console]: =\n",
            "WARNING:rpy2.rinterface_lib.callbacks:R[write to console]: =\n",
            "WARNING:rpy2.rinterface_lib.callbacks:R[write to console]: =\n",
            "WARNING:rpy2.rinterface_lib.callbacks:R[write to console]: =\n",
            "WARNING:rpy2.rinterface_lib.callbacks:R[write to console]: =\n",
            "WARNING:rpy2.rinterface_lib.callbacks:R[write to console]: =\n",
            "WARNING:rpy2.rinterface_lib.callbacks:R[write to console]: =\n",
            "WARNING:rpy2.rinterface_lib.callbacks:R[write to console]: =\n",
            "WARNING:rpy2.rinterface_lib.callbacks:R[write to console]: =\n",
            "WARNING:rpy2.rinterface_lib.callbacks:R[write to console]: =\n",
            "WARNING:rpy2.rinterface_lib.callbacks:R[write to console]: \n",
            "\n",
            "WARNING:rpy2.rinterface_lib.callbacks:R[write to console]: downloaded 551 KB\n",
            "\n",
            "\n",
            "WARNING:rpy2.rinterface_lib.callbacks:R[write to console]: \n",
            "\n",
            "WARNING:rpy2.rinterface_lib.callbacks:R[write to console]: \n",
            "WARNING:rpy2.rinterface_lib.callbacks:R[write to console]: The downloaded source packages are in\n",
            "\t‘/tmp/RtmpNPFlYY/downloaded_packages’\n",
            "WARNING:rpy2.rinterface_lib.callbacks:R[write to console]: \n",
            "WARNING:rpy2.rinterface_lib.callbacks:R[write to console]: \n",
            "\n"
          ]
        }
      ]
    },
    {
      "cell_type": "code",
      "source": [
        "%%R\n",
        "library(xtable)\n",
        "table(PB2016$`Faixa Remun Média (SM)`, y_hat)\n",
        "xtable(table(PB2016$`Faixa Remun Média (SM)`, y_hat))"
      ],
      "metadata": {
        "colab": {
          "base_uri": "https://localhost:8080/"
        },
        "id": "XBBg1fDZPf22",
        "outputId": "47de22d1-b9ee-463b-bd58-29e6a4729b28"
      },
      "execution_count": null,
      "outputs": [
        {
          "output_type": "stream",
          "name": "stdout",
          "text": [
            "% latex table generated in R 4.4.2 by xtable 1.8-4 package\n",
            "% Mon Dec  9 02:27:12 2024\n",
            "\\begin{table}[ht]\n",
            "\\centering\n",
            "\\begin{tabular}{rrrrrr}\n",
            "  \\hline\n",
            " & 2 & 3 & 5 & 10 & 12 \\\\ \n",
            "  \\hline\n",
            "0 & 480 & 5462 & 195 &   0 &   1 \\\\ \n",
            "  1 & 1408 & 100958 & 2602 &   2 &  20 \\\\ \n",
            "  2 & 478 & 384164 & 8689 &   2 &  34 \\\\ \n",
            "  3 &  32 & 108076 & 5924 &   0 &  32 \\\\ \n",
            "  4 &  15 & 88058 & 11504 &   4 &  46 \\\\ \n",
            "  5 &   2 & 27726 & 7511 &   2 &  48 \\\\ \n",
            "  6 &   1 & 11651 & 4392 &   4 &  35 \\\\ \n",
            "  7 &   2 & 13547 & 5202 &   4 &  68 \\\\ \n",
            "  8 &   0 & 7521 & 4741 &   5 & 121 \\\\ \n",
            "  9 &   0 & 4869 & 5683 &   4 & 351 \\\\ \n",
            "  10 &   0 & 1731 & 2577 &   5 & 188 \\\\ \n",
            "  11 &   0 & 1500 & 2057 &   6 & 109 \\\\ \n",
            "   \\hline\n",
            "\\end{tabular}\n",
            "\\end{table}\n"
          ]
        }
      ]
    },
    {
      "cell_type": "code",
      "source": [
        "%%R\n",
        "BIC(modelo_polr)\n"
      ],
      "metadata": {
        "colab": {
          "base_uri": "https://localhost:8080/"
        },
        "id": "4CHGfGFRPje2",
        "outputId": "6dd7b34d-8d42-4f4b-8545-8274b905dd05"
      },
      "execution_count": 18,
      "outputs": [
        {
          "output_type": "stream",
          "name": "stdout",
          "text": [
            "[1] 2501778\n"
          ]
        }
      ]
    },
    {
      "cell_type": "code",
      "source": [
        "%%R\n",
        "install.packages(\"PResiduals\")\n",
        "install.packages(\"ggplot2\")\n",
        "\n"
      ],
      "metadata": {
        "colab": {
          "base_uri": "https://localhost:8080/"
        },
        "id": "z-sH2mlePmS8",
        "outputId": "ebc5403b-a935-4774-e844-8bcbad5ec2db",
        "collapsed": true
      },
      "execution_count": 19,
      "outputs": [
        {
          "output_type": "stream",
          "name": "stderr",
          "text": [
            "WARNING:rpy2.rinterface_lib.callbacks:R[write to console]: Installing package into ‘/usr/local/lib/R/site-library’\n",
            "(as ‘lib’ is unspecified)\n",
            "\n",
            "WARNING:rpy2.rinterface_lib.callbacks:R[write to console]: trying URL 'https://cran.rstudio.com/src/contrib/PResiduals_1.0-1.tar.gz'\n",
            "\n",
            "WARNING:rpy2.rinterface_lib.callbacks:R[write to console]: Content type 'application/x-gzip'\n",
            "WARNING:rpy2.rinterface_lib.callbacks:R[write to console]:  length 49080 bytes (47 KB)\n",
            "\n",
            "WARNING:rpy2.rinterface_lib.callbacks:R[write to console]: =\n",
            "WARNING:rpy2.rinterface_lib.callbacks:R[write to console]: =\n",
            "WARNING:rpy2.rinterface_lib.callbacks:R[write to console]: =\n",
            "WARNING:rpy2.rinterface_lib.callbacks:R[write to console]: =\n",
            "WARNING:rpy2.rinterface_lib.callbacks:R[write to console]: =\n",
            "WARNING:rpy2.rinterface_lib.callbacks:R[write to console]: =\n",
            "WARNING:rpy2.rinterface_lib.callbacks:R[write to console]: =\n",
            "WARNING:rpy2.rinterface_lib.callbacks:R[write to console]: =\n",
            "WARNING:rpy2.rinterface_lib.callbacks:R[write to console]: =\n",
            "WARNING:rpy2.rinterface_lib.callbacks:R[write to console]: =\n",
            "WARNING:rpy2.rinterface_lib.callbacks:R[write to console]: =\n",
            "WARNING:rpy2.rinterface_lib.callbacks:R[write to console]: =\n",
            "WARNING:rpy2.rinterface_lib.callbacks:R[write to console]: =\n",
            "WARNING:rpy2.rinterface_lib.callbacks:R[write to console]: =\n",
            "WARNING:rpy2.rinterface_lib.callbacks:R[write to console]: =\n",
            "WARNING:rpy2.rinterface_lib.callbacks:R[write to console]: =\n",
            "WARNING:rpy2.rinterface_lib.callbacks:R[write to console]: =\n",
            "WARNING:rpy2.rinterface_lib.callbacks:R[write to console]: =\n",
            "WARNING:rpy2.rinterface_lib.callbacks:R[write to console]: =\n",
            "WARNING:rpy2.rinterface_lib.callbacks:R[write to console]: =\n",
            "WARNING:rpy2.rinterface_lib.callbacks:R[write to console]: =\n",
            "WARNING:rpy2.rinterface_lib.callbacks:R[write to console]: =\n",
            "WARNING:rpy2.rinterface_lib.callbacks:R[write to console]: =\n",
            "WARNING:rpy2.rinterface_lib.callbacks:R[write to console]: =\n",
            "WARNING:rpy2.rinterface_lib.callbacks:R[write to console]: =\n",
            "WARNING:rpy2.rinterface_lib.callbacks:R[write to console]: =\n",
            "WARNING:rpy2.rinterface_lib.callbacks:R[write to console]: =\n",
            "WARNING:rpy2.rinterface_lib.callbacks:R[write to console]: =\n",
            "WARNING:rpy2.rinterface_lib.callbacks:R[write to console]: =\n",
            "WARNING:rpy2.rinterface_lib.callbacks:R[write to console]: =\n",
            "WARNING:rpy2.rinterface_lib.callbacks:R[write to console]: =\n",
            "WARNING:rpy2.rinterface_lib.callbacks:R[write to console]: =\n",
            "WARNING:rpy2.rinterface_lib.callbacks:R[write to console]: =\n",
            "WARNING:rpy2.rinterface_lib.callbacks:R[write to console]: =\n",
            "WARNING:rpy2.rinterface_lib.callbacks:R[write to console]: =\n",
            "WARNING:rpy2.rinterface_lib.callbacks:R[write to console]: =\n",
            "WARNING:rpy2.rinterface_lib.callbacks:R[write to console]: =\n",
            "WARNING:rpy2.rinterface_lib.callbacks:R[write to console]: =\n",
            "WARNING:rpy2.rinterface_lib.callbacks:R[write to console]: =\n",
            "WARNING:rpy2.rinterface_lib.callbacks:R[write to console]: =\n",
            "WARNING:rpy2.rinterface_lib.callbacks:R[write to console]: =\n",
            "WARNING:rpy2.rinterface_lib.callbacks:R[write to console]: =\n",
            "WARNING:rpy2.rinterface_lib.callbacks:R[write to console]: =\n",
            "WARNING:rpy2.rinterface_lib.callbacks:R[write to console]: =\n",
            "WARNING:rpy2.rinterface_lib.callbacks:R[write to console]: =\n",
            "WARNING:rpy2.rinterface_lib.callbacks:R[write to console]: =\n",
            "WARNING:rpy2.rinterface_lib.callbacks:R[write to console]: =\n",
            "WARNING:rpy2.rinterface_lib.callbacks:R[write to console]: =\n",
            "WARNING:rpy2.rinterface_lib.callbacks:R[write to console]: =\n",
            "WARNING:rpy2.rinterface_lib.callbacks:R[write to console]: =\n",
            "WARNING:rpy2.rinterface_lib.callbacks:R[write to console]: \n",
            "\n",
            "WARNING:rpy2.rinterface_lib.callbacks:R[write to console]: downloaded 47 KB\n",
            "\n",
            "\n",
            "WARNING:rpy2.rinterface_lib.callbacks:R[write to console]: \n",
            "\n",
            "WARNING:rpy2.rinterface_lib.callbacks:R[write to console]: \n",
            "WARNING:rpy2.rinterface_lib.callbacks:R[write to console]: The downloaded source packages are in\n",
            "\t‘/tmp/RtmpNPFlYY/downloaded_packages’\n",
            "WARNING:rpy2.rinterface_lib.callbacks:R[write to console]: \n",
            "WARNING:rpy2.rinterface_lib.callbacks:R[write to console]: \n",
            "\n",
            "WARNING:rpy2.rinterface_lib.callbacks:R[write to console]: Installing package into ‘/usr/local/lib/R/site-library’\n",
            "(as ‘lib’ is unspecified)\n",
            "\n",
            "WARNING:rpy2.rinterface_lib.callbacks:R[write to console]: trying URL 'https://cran.rstudio.com/src/contrib/ggplot2_3.5.1.tar.gz'\n",
            "\n",
            "WARNING:rpy2.rinterface_lib.callbacks:R[write to console]: Content type 'application/x-gzip'\n",
            "WARNING:rpy2.rinterface_lib.callbacks:R[write to console]:  length 3604371 bytes (3.4 MB)\n",
            "\n",
            "WARNING:rpy2.rinterface_lib.callbacks:R[write to console]: =\n",
            "WARNING:rpy2.rinterface_lib.callbacks:R[write to console]: =\n",
            "WARNING:rpy2.rinterface_lib.callbacks:R[write to console]: =\n",
            "WARNING:rpy2.rinterface_lib.callbacks:R[write to console]: =\n",
            "WARNING:rpy2.rinterface_lib.callbacks:R[write to console]: =\n",
            "WARNING:rpy2.rinterface_lib.callbacks:R[write to console]: =\n",
            "WARNING:rpy2.rinterface_lib.callbacks:R[write to console]: =\n",
            "WARNING:rpy2.rinterface_lib.callbacks:R[write to console]: =\n",
            "WARNING:rpy2.rinterface_lib.callbacks:R[write to console]: =\n",
            "WARNING:rpy2.rinterface_lib.callbacks:R[write to console]: =\n",
            "WARNING:rpy2.rinterface_lib.callbacks:R[write to console]: =\n",
            "WARNING:rpy2.rinterface_lib.callbacks:R[write to console]: =\n",
            "WARNING:rpy2.rinterface_lib.callbacks:R[write to console]: =\n",
            "WARNING:rpy2.rinterface_lib.callbacks:R[write to console]: =\n",
            "WARNING:rpy2.rinterface_lib.callbacks:R[write to console]: =\n",
            "WARNING:rpy2.rinterface_lib.callbacks:R[write to console]: =\n",
            "WARNING:rpy2.rinterface_lib.callbacks:R[write to console]: =\n",
            "WARNING:rpy2.rinterface_lib.callbacks:R[write to console]: =\n",
            "WARNING:rpy2.rinterface_lib.callbacks:R[write to console]: =\n",
            "WARNING:rpy2.rinterface_lib.callbacks:R[write to console]: =\n",
            "WARNING:rpy2.rinterface_lib.callbacks:R[write to console]: =\n",
            "WARNING:rpy2.rinterface_lib.callbacks:R[write to console]: =\n",
            "WARNING:rpy2.rinterface_lib.callbacks:R[write to console]: =\n",
            "WARNING:rpy2.rinterface_lib.callbacks:R[write to console]: =\n",
            "WARNING:rpy2.rinterface_lib.callbacks:R[write to console]: =\n",
            "WARNING:rpy2.rinterface_lib.callbacks:R[write to console]: =\n",
            "WARNING:rpy2.rinterface_lib.callbacks:R[write to console]: =\n",
            "WARNING:rpy2.rinterface_lib.callbacks:R[write to console]: =\n",
            "WARNING:rpy2.rinterface_lib.callbacks:R[write to console]: =\n",
            "WARNING:rpy2.rinterface_lib.callbacks:R[write to console]: =\n",
            "WARNING:rpy2.rinterface_lib.callbacks:R[write to console]: =\n",
            "WARNING:rpy2.rinterface_lib.callbacks:R[write to console]: =\n",
            "WARNING:rpy2.rinterface_lib.callbacks:R[write to console]: =\n",
            "WARNING:rpy2.rinterface_lib.callbacks:R[write to console]: =\n",
            "WARNING:rpy2.rinterface_lib.callbacks:R[write to console]: =\n",
            "WARNING:rpy2.rinterface_lib.callbacks:R[write to console]: =\n",
            "WARNING:rpy2.rinterface_lib.callbacks:R[write to console]: =\n",
            "WARNING:rpy2.rinterface_lib.callbacks:R[write to console]: =\n",
            "WARNING:rpy2.rinterface_lib.callbacks:R[write to console]: =\n",
            "WARNING:rpy2.rinterface_lib.callbacks:R[write to console]: =\n",
            "WARNING:rpy2.rinterface_lib.callbacks:R[write to console]: =\n",
            "WARNING:rpy2.rinterface_lib.callbacks:R[write to console]: =\n",
            "WARNING:rpy2.rinterface_lib.callbacks:R[write to console]: =\n",
            "WARNING:rpy2.rinterface_lib.callbacks:R[write to console]: =\n",
            "WARNING:rpy2.rinterface_lib.callbacks:R[write to console]: =\n",
            "WARNING:rpy2.rinterface_lib.callbacks:R[write to console]: =\n",
            "WARNING:rpy2.rinterface_lib.callbacks:R[write to console]: =\n",
            "WARNING:rpy2.rinterface_lib.callbacks:R[write to console]: =\n",
            "WARNING:rpy2.rinterface_lib.callbacks:R[write to console]: =\n",
            "WARNING:rpy2.rinterface_lib.callbacks:R[write to console]: =\n",
            "WARNING:rpy2.rinterface_lib.callbacks:R[write to console]: \n",
            "\n",
            "WARNING:rpy2.rinterface_lib.callbacks:R[write to console]: downloaded 3.4 MB\n",
            "\n",
            "\n",
            "WARNING:rpy2.rinterface_lib.callbacks:R[write to console]: \n",
            "\n",
            "WARNING:rpy2.rinterface_lib.callbacks:R[write to console]: \n",
            "WARNING:rpy2.rinterface_lib.callbacks:R[write to console]: The downloaded source packages are in\n",
            "\t‘/tmp/RtmpNPFlYY/downloaded_packages’\n",
            "WARNING:rpy2.rinterface_lib.callbacks:R[write to console]: \n",
            "WARNING:rpy2.rinterface_lib.callbacks:R[write to console]: \n",
            "\n"
          ]
        }
      ]
    },
    {
      "cell_type": "code",
      "source": [
        "%%R\n",
        "library(PResiduals)\n",
        "pres <- presid(modelo_polr)\n",
        "# residuos vs covariancia\n",
        "# plot e Q-Q Plot\n",
        "library(ggplot2)"
      ],
      "metadata": {
        "id": "b-UckwikPoMu"
      },
      "execution_count": 20,
      "outputs": []
    },
    {
      "cell_type": "code",
      "source": [
        "%%R\n",
        "install.packages(\"grid.arrange\")"
      ],
      "metadata": {
        "colab": {
          "base_uri": "https://localhost:8080/"
        },
        "id": "FKl6RNPbfqvI",
        "outputId": "a603833a-1add-497d-b7cc-3494e74d2531"
      },
      "execution_count": 16,
      "outputs": [
        {
          "output_type": "stream",
          "name": "stderr",
          "text": [
            "WARNING:rpy2.rinterface_lib.callbacks:R[write to console]: Installing package into ‘/usr/local/lib/R/site-library’\n",
            "(as ‘lib’ is unspecified)\n",
            "\n"
          ]
        }
      ]
    },
    {
      "cell_type": "code",
      "source": [
        "%%R\n",
        "#library(\"grid.arrange\")\n",
        "p1 <- ggplot(data.frame(x = PB2016$`Faixa Remun Média (SM)`, y = pres), aes(x, y)) +\n",
        "geom_point(color = \"#444444\", shape = 19, size = 2, alpha = 0.5) +\n",
        "geom_smooth(color = \"red\", se = FALSE) +\n",
        "ylab(\"Probability-scale residual\")\n",
        "\n",
        "p2 <- ggplot(data.frame(y = pres), aes(sample = y)) +\n",
        "stat_qq(distribution = qunif, dparams = list(min = -1, max = 1), alpha = 0.5) +\n",
        "stat_qq_line(colour = \"red\", dparams = list(min = -1, max = 1), alpha = 0.5) +\n",
        "xlab(\"Sample quantile\") +\n",
        "ylab(\"Theoretical quantile\")\n",
        "\n",
        "#grid.arrange(p1, p2, ncol = 2) # Figure 1\n",
        "p1\n",
        "\n",
        "# probit"
      ],
      "metadata": {
        "id": "TbcML_kHPwJv",
        "colab": {
          "base_uri": "https://localhost:8080/",
          "height": 514
        },
        "outputId": "dd4b1d1f-8c9a-4b20-a02f-8ccc01e93c2f"
      },
      "execution_count": 15,
      "outputs": [
        {
          "output_type": "stream",
          "name": "stdout",
          "text": [
            "`geom_smooth()` using method = 'gam' and formula = 'y ~ s(x, bs = \"cs\")'\n"
          ]
        },
        {
          "output_type": "display_data",
          "data": {
            "image/png": "[encoded data removed]"
          },
          "metadata": {}
        }
      ]
    },
    {
      "cell_type": "code",
      "source": [
        "%%R\n",
        "\n",
        "p2"
      ],
      "metadata": {
        "colab": {
          "base_uri": "https://localhost:8080/",
          "height": 497
        },
        "id": "TUEtjLMegElQ",
        "outputId": "7d051ade-cce1-4727-e25c-8ae6f5c67730"
      },
      "execution_count": 21,
      "outputs": [
        {
          "output_type": "display_data",
          "data": {
            "image/png": "[encoded data removed]"
          },
          "metadata": {}
        }
      ]
    },
    {
      "cell_type": "code",
      "source": [
        "%%R\n",
        "library(sure)\n",
        "set.seed(2021)\n",
        "sres <- resids(modelo_polr)"
      ],
      "metadata": {
        "id": "mE49O_QhAN26"
      },
      "execution_count": null,
      "outputs": []
    },
    {
      "cell_type": "code",
      "source": [
        "%%R\n",
        "set.seed(101)\n",
        "sres <- resids(modelo_polr)\n",
        "# Residual-vs-covariate plot and Q-Q plot\n",
        "library(ggplot2) # needed for autoplot function\n",
        "p3 <- sure::autoplot.resid(resids(modelo_polr), what = \"covariate\",\n",
        "              x = PB2016$`Faixa Remun Média (SM)`)\n",
        "p4 <- ggplot(data.frame(sres), aes(sample = sres)) +\n",
        "  stat_qq() + stat_qq_line(colour = \"red\")\n",
        "\n",
        "p3"
      ],
      "metadata": {
        "id": "EzHkVnUZAOk-"
      },
      "execution_count": null,
      "outputs": []
    },
    {
      "cell_type": "code",
      "source": [
        "p4"
      ],
      "metadata": {
        "id": "qsl-oYeHAS_i"
      },
      "execution_count": null,
      "outputs": []
    },
    {
      "cell_type": "markdown",
      "source": [
        "MODELO LOGISTIC"
      ],
      "metadata": {
        "id": "DWGvynI5kjmT"
      }
    },
    {
      "cell_type": "code",
      "source": [
        "%%R\n",
        "modelo_polr_logistic <- polr(as.factor(`Faixa Remun Média (SM)`) ~\n",
        "                        as.factor(`Sexo Trabalhador`) +\n",
        "                      as.factor(`Faixa Etária`) +  as.factor(`Escolaridade após 2005`) +\n",
        "                      `Qtd Hora Contr` + as.factor(`Raça Cor`), data = PB2016,\n",
        "                     method = \"logistic\")"
      ],
      "metadata": {
        "id": "2v0WVJyXkc7c"
      },
      "execution_count": 28,
      "outputs": []
    },
    {
      "cell_type": "code",
      "source": [
        "%%R\n",
        "length(as.numeric(PB2016$`Faixa Remun Média (SM)`)) # 819849\n",
        "length(modelo_polr_logistic$fitted.values) #9838188\n",
        "# para as 12 variáveis 9838188/819849 = 12\n",
        "\n",
        "fit1 <- fitted(modelo_polr_logistic)\n",
        "\n",
        "\n",
        "fit1_df <- as.data.frame(fit1)"
      ],
      "metadata": {
        "id": "i5Y_mW2akqcw"
      },
      "execution_count": 29,
      "outputs": []
    },
    {
      "cell_type": "code",
      "source": [
        "%%R\n",
        "# O que antes era probabilidade agora é classificacao.\n",
        "y_hat1 <- NULL\n",
        "for(i in 1:nrow(fit1)){\n",
        "    coluna <- NA\n",
        "    for(j in 1:ncol(fit1)){\n",
        "      if(max(fit1[i, ]) == fit1[i,j]) coluna <- j\n",
        "    }\n",
        "  y_hat1[i] <- coluna\n",
        "}\n",
        "levels(as.factor(y_hat1))"
      ],
      "metadata": {
        "colab": {
          "base_uri": "https://localhost:8080/"
        },
        "id": "LLDdQfOwkrTA",
        "outputId": "78457986-98a4-4f9a-85f1-439492074478"
      },
      "execution_count": 30,
      "outputs": [
        {
          "output_type": "stream",
          "name": "stdout",
          "text": [
            "[1] \"2\"  \"3\"  \"5\"  \"10\" \"12\"\n"
          ]
        }
      ]
    },
    {
      "cell_type": "code",
      "source": [
        "%%R\n",
        "library(xtable)\n",
        "table(PB2016$`Faixa Remun Média (SM)`, y_hat)\n",
        "xtable(table(PB2016$`Faixa Remun Média (SM)`, y_hat))"
      ],
      "metadata": {
        "colab": {
          "base_uri": "https://localhost:8080/"
        },
        "id": "Db8yJCpUkzct",
        "outputId": "e9f80c19-2697-4a95-c936-45e711ca9736"
      },
      "execution_count": 31,
      "outputs": [
        {
          "output_type": "stream",
          "name": "stdout",
          "text": [
            "% latex table generated in R 4.4.2 by xtable 1.8-4 package\n",
            "% Mon Dec  9 23:50:47 2024\n",
            "\\begin{table}[ht]\n",
            "\\centering\n",
            "\\begin{tabular}{rrrrrr}\n",
            "  \\hline\n",
            " & 2 & 3 & 5 & 10 & 12 \\\\ \n",
            "  \\hline\n",
            "0 & 480 & 5462 & 195 &   0 &   1 \\\\ \n",
            "  1 & 1408 & 100958 & 2602 &   2 &  20 \\\\ \n",
            "  2 & 478 & 384164 & 8689 &   2 &  34 \\\\ \n",
            "  3 &  32 & 108076 & 5924 &   0 &  32 \\\\ \n",
            "  4 &  15 & 88058 & 11504 &   4 &  46 \\\\ \n",
            "  5 &   2 & 27726 & 7511 &   2 &  48 \\\\ \n",
            "  6 &   1 & 11651 & 4392 &   4 &  35 \\\\ \n",
            "  7 &   2 & 13547 & 5202 &   4 &  68 \\\\ \n",
            "  8 &   0 & 7521 & 4741 &   5 & 121 \\\\ \n",
            "  9 &   0 & 4869 & 5683 &   4 & 351 \\\\ \n",
            "  10 &   0 & 1731 & 2577 &   5 & 188 \\\\ \n",
            "  11 &   0 & 1500 & 2057 &   6 & 109 \\\\ \n",
            "   \\hline\n",
            "\\end{tabular}\n",
            "\\end{table}\n"
          ]
        }
      ]
    },
    {
      "cell_type": "code",
      "source": [
        "%%R\n",
        "library(lmtest)\n",
        "round(coeftest(modelo_polr_logistic),4)"
      ],
      "metadata": {
        "colab": {
          "base_uri": "https://localhost:8080/"
        },
        "id": "NNiijl3lk13b",
        "outputId": "d318ad46-55ce-4763-b9b2-3877e18b5476"
      },
      "execution_count": 32,
      "outputs": [
        {
          "output_type": "stream",
          "name": "stderr",
          "text": [
            "WARNING:rpy2.rinterface_lib.callbacks:R[write to console]: \n",
            "Re-fitting to get Hessian\n",
            "\n",
            "\n"
          ]
        },
        {
          "output_type": "stream",
          "name": "stdout",
          "text": [
            "\n",
            "t test of coefficients:\n",
            "\n",
            "                                      Estimate Std. Error   t value Pr(>|t|)\n",
            "as.factor(`Sexo Trabalhador`)2         -0.5188     0.0045 -115.8380   <2e-16\n",
            "as.factor(`Faixa Etária`)3              1.6316     0.0543   30.0405   <2e-16\n",
            "as.factor(`Faixa Etária`)4              2.1555     0.0543   39.6623   <2e-16\n",
            "as.factor(`Faixa Etária`)5              2.5263     0.0542   46.5796   <2e-16\n",
            "as.factor(`Faixa Etária`)6              2.7342     0.0543   50.3415   <2e-16\n",
            "as.factor(`Faixa Etária`)7              3.1766     0.0544   58.3805   <2e-16\n",
            "as.factor(`Faixa Etária`)8              3.7174     0.0572   65.0164   <2e-16\n",
            "as.factor(`Faixa Etária`)99             2.7272     0.0020 1371.0243   <2e-16\n",
            "as.factor(`Escolaridade após 2005`)2    0.3952     0.0227   17.3770   <2e-16\n",
            "as.factor(`Escolaridade após 2005`)3    0.3411     0.0241   14.1595   <2e-16\n",
            "as.factor(`Escolaridade após 2005`)4    0.4691     0.0224   20.9383   <2e-16\n",
            "as.factor(`Escolaridade após 2005`)5    0.7761     0.0215   36.0140   <2e-16\n",
            "as.factor(`Escolaridade após 2005`)6    0.4343     0.0225   19.2962   <2e-16\n",
            "as.factor(`Escolaridade após 2005`)7    0.8037     0.0209   38.4384   <2e-16\n",
            "as.factor(`Escolaridade após 2005`)8    1.5549     0.0239   65.1478   <2e-16\n",
            "as.factor(`Escolaridade após 2005`)9    2.9418     0.0216  136.4030   <2e-16\n",
            "as.factor(`Escolaridade após 2005`)10   4.2265     0.0339  124.8343   <2e-16\n",
            "as.factor(`Escolaridade após 2005`)11   5.0511     0.0447  112.9882   <2e-16\n",
            "`Qtd Hora Contr`                        0.0326     0.0004   88.8160   <2e-16\n",
            "as.factor(`Raça Cor`)2                  0.2398     0.0597    4.0164   0.0001\n",
            "as.factor(`Raça Cor`)4                  0.1507     0.0611    2.4675   0.0136\n",
            "as.factor(`Raça Cor`)6                  0.1974     0.0646    3.0570   0.0022\n",
            "as.factor(`Raça Cor`)8                  0.2706     0.0596    4.5399   <2e-16\n",
            "as.factor(`Raça Cor`)99                 0.2835     0.0597    4.7519   <2e-16\n",
            "                                         \n",
            "as.factor(`Sexo Trabalhador`)2        ***\n",
            "as.factor(`Faixa Etária`)3            ***\n",
            "as.factor(`Faixa Etária`)4            ***\n",
            "as.factor(`Faixa Etária`)5            ***\n",
            "as.factor(`Faixa Etária`)6            ***\n",
            "as.factor(`Faixa Etária`)7            ***\n",
            "as.factor(`Faixa Etária`)8            ***\n",
            "as.factor(`Faixa Etária`)99           ***\n",
            "as.factor(`Escolaridade após 2005`)2  ***\n",
            "as.factor(`Escolaridade após 2005`)3  ***\n",
            "as.factor(`Escolaridade após 2005`)4  ***\n",
            "as.factor(`Escolaridade após 2005`)5  ***\n",
            "as.factor(`Escolaridade após 2005`)6  ***\n",
            "as.factor(`Escolaridade após 2005`)7  ***\n",
            "as.factor(`Escolaridade após 2005`)8  ***\n",
            "as.factor(`Escolaridade após 2005`)9  ***\n",
            "as.factor(`Escolaridade após 2005`)10 ***\n",
            "as.factor(`Escolaridade após 2005`)11 ***\n",
            "`Qtd Hora Contr`                      ***\n",
            "as.factor(`Raça Cor`)2                ***\n",
            "as.factor(`Raça Cor`)4                *  \n",
            "as.factor(`Raça Cor`)6                ** \n",
            "as.factor(`Raça Cor`)8                ***\n",
            "as.factor(`Raça Cor`)99               ***\n",
            "---\n",
            "Signif. codes:  0 ‘***’ 0.001 ‘**’ 0.01 ‘*’ 0.05 ‘.’ 0.1 ‘ ’ 1\n",
            "\n"
          ]
        }
      ]
    },
    {
      "cell_type": "code",
      "source": [
        "%%R\n",
        "BIC(modelo_polr_logistic)"
      ],
      "metadata": {
        "colab": {
          "base_uri": "https://localhost:8080/"
        },
        "id": "YaWV6XSxk8yp",
        "outputId": "7bf8c949-f418-4572-8235-1609a0fc5745"
      },
      "execution_count": 45,
      "outputs": [
        {
          "output_type": "stream",
          "name": "stdout",
          "text": [
            "[1] 2489708\n"
          ]
        }
      ]
    },
    {
      "cell_type": "code",
      "source": [
        "%%R\n",
        "library(PResiduals)\n",
        "pres_logistic <- presid(modelo_polr_logistic)\n",
        "# residuos vs covariancia\n",
        "# plot e Q-Q Plot\n",
        "library(ggplot2)"
      ],
      "metadata": {
        "id": "OvtVzqIblAeB"
      },
      "execution_count": 46,
      "outputs": []
    },
    {
      "cell_type": "code",
      "source": [
        "%%R\n",
        "p1_logistic <- ggplot(data.frame(x = PB2016$`Faixa Remun Média (SM)`,\n",
        "        y = pres_logistic), aes(x, y)) +\n",
        "    geom_point(color = \"#444444\", shape = 19, size = 2, alpha = 0.5) +\n",
        "    geom_smooth(color = \"red\", se = FALSE) +\n",
        "    ylab(\"Escala de probabilidade residual\")\n",
        "\n",
        "p2_logistic <- ggplot(data.frame(y = pres_logistic), aes(sample = y)) +\n",
        "stat_qq(distribution = qunif, dparams = list(min = -1, max = 1), alpha = 0.5) +\n",
        "stat_qq_line(colour = \"red\", dparams = list(min = -1, max = 1), alpha = 0.5) +\n",
        "xlab(\"Amostra do quantil\") +\n",
        "ylab(\"Quantil teórico\")\n",
        "\n",
        "p1"
      ],
      "metadata": {
        "id": "OL878oMflB7J"
      },
      "execution_count": 47,
      "outputs": []
    },
    {
      "cell_type": "code",
      "source": [
        "p2"
      ],
      "metadata": {
        "id": "NaJyVx510JXR"
      },
      "execution_count": null,
      "outputs": []
    },
    {
      "cell_type": "markdown",
      "source": [
        "Modelo LOG LOG"
      ],
      "metadata": {
        "id": "mWU9b3lulGwR"
      }
    },
    {
      "cell_type": "code",
      "source": [
        "%%R\n",
        "modelo_polr_loglog <- polr(as.factor(`Faixa Remun Média (SM)`) ~\n",
        "                        as.factor(`Sexo Trabalhador`) +\n",
        "                      as.factor(`Faixa Etária`) +  as.factor(`Escolaridade após 2005`) +\n",
        "                      `Qtd Hora Contr` + as.factor(`Raça Cor`), data = PB2016,\n",
        "                     method = \"loglog\")\n",
        "summary(modelo_polr_loglog)"
      ],
      "metadata": {
        "colab": {
          "base_uri": "https://localhost:8080/"
        },
        "id": "1Rf20y8wlEox",
        "outputId": "b762dd56-636a-4309-fbbc-3c0a459d432d"
      },
      "execution_count": 16,
      "outputs": [
        {
          "output_type": "stream",
          "name": "stderr",
          "text": [
            "WARNING:rpy2.rinterface_lib.callbacks:R[write to console]: \n",
            "Re-fitting to get Hessian\n",
            "\n",
            "\n"
          ]
        },
        {
          "output_type": "stream",
          "name": "stdout",
          "text": [
            "Call:\n",
            "polr(formula = as.factor(`Faixa Remun Média (SM)`) ~ as.factor(`Sexo Trabalhador`) + \n",
            "    as.factor(`Faixa Etária`) + as.factor(`Escolaridade após 2005`) + \n",
            "    `Qtd Hora Contr` + as.factor(`Raça Cor`), data = PB2016, \n",
            "    method = \"loglog\")\n",
            "\n",
            "Coefficients:\n",
            "                                         Value Std. Error  t value\n",
            "as.factor(`Sexo Trabalhador`)2        -0.20883  0.0025838  -80.822\n",
            "as.factor(`Faixa Etária`)3             0.46446  0.0305466   15.205\n",
            "as.factor(`Faixa Etária`)4             0.67842  0.0305672   22.194\n",
            "as.factor(`Faixa Etária`)5             0.84823  0.0304955   27.815\n",
            "as.factor(`Faixa Etária`)6             0.94380  0.0305422   30.902\n",
            "as.factor(`Faixa Etária`)7             1.13440  0.0305963   37.076\n",
            "as.factor(`Faixa Etária`)8             1.31655  0.0321843   40.907\n",
            "as.factor(`Faixa Etária`)99            1.08831  0.0010353 1051.211\n",
            "as.factor(`Escolaridade após 2005`)2   0.19564  0.0133068   14.702\n",
            "as.factor(`Escolaridade após 2005`)3   0.18948  0.0141301   13.410\n",
            "as.factor(`Escolaridade após 2005`)4   0.23942  0.0131082   18.265\n",
            "as.factor(`Escolaridade após 2005`)5   0.32442  0.0125347   25.882\n",
            "as.factor(`Escolaridade após 2005`)6   0.21660  0.0131489   16.473\n",
            "as.factor(`Escolaridade após 2005`)7   0.38145  0.0122061   31.251\n",
            "as.factor(`Escolaridade após 2005`)8   0.67203  0.0139334   48.232\n",
            "as.factor(`Escolaridade após 2005`)9   1.34946  0.0124890  108.051\n",
            "as.factor(`Escolaridade após 2005`)10  1.89631  0.0202706   93.550\n",
            "as.factor(`Escolaridade após 2005`)11  2.55903  0.0267303   95.735\n",
            "`Qtd Hora Contr`                       0.02804  0.0001912  146.633\n",
            "as.factor(`Raça Cor`)2                 0.06970  0.0350970    1.986\n",
            "as.factor(`Raça Cor`)4                 0.10298  0.0359152    2.867\n",
            "as.factor(`Raça Cor`)6                 0.10845  0.0380051    2.854\n",
            "as.factor(`Raça Cor`)8                 0.15463  0.0350418    4.413\n",
            "as.factor(`Raça Cor`)99                0.14441  0.0350558    4.119\n",
            "\n",
            "Intercepts:\n",
            "      Value     Std. Error t value  \n",
            "0|1      0.7365    0.0482    15.2893\n",
            "1|2      1.7675    0.0483    36.6058\n",
            "2|3      3.2790    0.0483    67.8337\n",
            "3|4      3.8609    0.0484    79.8331\n",
            "4|5      4.6576    0.0484    96.1984\n",
            "5|6      5.1247    0.0485   105.7223\n",
            "6|7      5.4208    0.0485   111.7129\n",
            "7|8      5.9124    0.0486   121.5332\n",
            "8|9      6.4295    0.0489   131.5846\n",
            "9|10     7.2932    0.0496   147.1138\n",
            "10|11    8.0998    0.0511   158.6132\n",
            "\n",
            "Residual Deviance: 2576803.41 \n",
            "AIC: 2576873.41 \n"
          ]
        }
      ]
    },
    {
      "cell_type": "code",
      "source": [
        "%%R\n",
        "length(as.numeric(PB2016$`Faixa Remun Média (SM)`)) # 819849\n",
        "length(modelo_polr_loglog$fitted.values) #9838188\n",
        "# para as 12 variáveis 9838188/819849 = 12\n",
        "\n",
        "fit2 <- fitted(modelo_polr_loglog)\n",
        "\n",
        "\n",
        "fit2_df <- as.data.frame(fit2)"
      ],
      "metadata": {
        "id": "Ci21w6s6lN3p"
      },
      "execution_count": 17,
      "outputs": []
    },
    {
      "cell_type": "code",
      "source": [
        "%%R\n",
        "# O que antes era probabilidade agora é classificacao.\n",
        "y_hat2 <- NULL\n",
        "for(i in 1:nrow(fit2)){\n",
        "    coluna <- NA\n",
        "    for(j in 1:ncol(fit2)){\n",
        "      if(max(fit2[i, ]) == fit2[i,j]) coluna <- j\n",
        "    }\n",
        "  y_hat2[i] <- coluna\n",
        "}\n",
        "levels(as.factor(y_hat2))"
      ],
      "metadata": {
        "colab": {
          "base_uri": "https://localhost:8080/"
        },
        "id": "APk7R6k9lQFh",
        "outputId": "0a99fab9-34bc-4674-91a2-9530e37d1a66"
      },
      "execution_count": 22,
      "outputs": [
        {
          "output_type": "stream",
          "name": "stdout",
          "text": [
            "[1] \"1\" \"2\" \"3\" \"5\" \"8\"\n"
          ]
        }
      ]
    },
    {
      "cell_type": "code",
      "source": [
        "%%R\n",
        "library(xtable)\n",
        "table(PB2016$`Faixa Remun Média (SM)`, y_hat2)\n",
        "xtable(table(PB2016$`Faixa Remun Média (SM)`, y_hat2))"
      ],
      "metadata": {
        "colab": {
          "base_uri": "https://localhost:8080/"
        },
        "id": "wn9KXondlQ65",
        "outputId": "79ba5088-ad13-4a6b-ea62-29fad078730f"
      },
      "execution_count": 23,
      "outputs": [
        {
          "output_type": "stream",
          "name": "stdout",
          "text": [
            "% latex table generated in R 4.4.2 by xtable 1.8-4 package\n",
            "% Mon Dec  9 23:43:03 2024\n",
            "\\begin{table}[ht]\n",
            "\\centering\n",
            "\\begin{tabular}{rrrrrr}\n",
            "  \\hline\n",
            " & 1 & 2 & 3 & 5 & 8 \\\\ \n",
            "  \\hline\n",
            "0 &  82 & 1002 & 4980 &  74 &   0 \\\\ \n",
            "  1 & 137 & 2035 & 101988 & 828 &   2 \\\\ \n",
            "  2 &  34 & 907 & 390165 & 2261 &   0 \\\\ \n",
            "  3 &   0 & 213 & 112337 & 1514 &   0 \\\\ \n",
            "  4 &   0 &  75 & 96580 & 2971 &   1 \\\\ \n",
            "  5 &   0 &  15 & 32966 & 2308 &   0 \\\\ \n",
            "  6 &   0 &   9 & 14463 & 1611 &   0 \\\\ \n",
            "  7 &   0 &   6 & 16664 & 2152 &   1 \\\\ \n",
            "  8 &   0 &   2 & 10288 & 2095 &   3 \\\\ \n",
            "  9 &   0 &   0 & 8190 & 2708 &   9 \\\\ \n",
            "  10 &   0 &   0 & 3062 & 1436 &   3 \\\\ \n",
            "  11 &   0 &   0 & 2439 & 1230 &   3 \\\\ \n",
            "   \\hline\n",
            "\\end{tabular}\n",
            "\\end{table}\n"
          ]
        }
      ]
    },
    {
      "cell_type": "code",
      "source": [
        "%%R\n",
        "BIC(modelo_polr_loglog)"
      ],
      "metadata": {
        "colab": {
          "base_uri": "https://localhost:8080/"
        },
        "id": "F2aN7_g_lTYZ",
        "outputId": "6c249da8-7dd8-4078-f185-b2b5c2a12bdf"
      },
      "execution_count": 24,
      "outputs": [
        {
          "output_type": "stream",
          "name": "stdout",
          "text": [
            "[1] 2577280\n"
          ]
        }
      ]
    },
    {
      "cell_type": "code",
      "source": [
        "%%R\n",
        "library(PResiduals)\n",
        "pres_loglog <- presid(modelo_polr_loglog)\n",
        "# residuos vs covariancia\n",
        "# plot e Q-Q Plot\n",
        "library(ggplot2)"
      ],
      "metadata": {
        "id": "5JMa7t_8lVOy"
      },
      "execution_count": 25,
      "outputs": []
    },
    {
      "cell_type": "code",
      "source": [
        "%%R\n",
        "p1_loglog <- ggplot(data.frame(x = PB2016$`Faixa Remun Média (SM)`,\n",
        "        y = pres_loglog), aes(x, y)) +\n",
        "        geom_point(color = \"#444444\", shape = 19, size = 2, alpha = 0.5) +\n",
        "        geom_smooth(color = \"red\", se = FALSE) +\n",
        "        ylab(\"Probability-scale residual\")\n",
        "\n",
        "p2_loglog <- ggplot(data.frame(y = pres_loglog), aes(sample = y)) +\n",
        "        stat_qq(distribution = qunif, dparams = list(min = -1, max = 1),\n",
        "        alpha = 0.5) +\n",
        "        stat_qq_line(colour = \"red\", dparams = list(min = -1, max = 1),\n",
        "        alpha = 0.5) +\n",
        "        xlab(\"Sample quantile\") +\n",
        "        ylab(\"Theoretical quantile\")\n",
        "p1"
      ],
      "metadata": {
        "colab": {
          "base_uri": "https://localhost:8080/",
          "height": 514
        },
        "id": "FmXSJHX2lW86",
        "outputId": "836f6bb9-1c09-4796-b14c-a6b781115f35"
      },
      "execution_count": 26,
      "outputs": [
        {
          "output_type": "stream",
          "name": "stdout",
          "text": [
            "`geom_smooth()` using method = 'gam' and formula = 'y ~ s(x, bs = \"cs\")'\n"
          ]
        },
        {
          "output_type": "display_data",
          "data": {
            "image/png": "[encoded data removed]"
          },
          "metadata": {}
        }
      ]
    },
    {
      "cell_type": "code",
      "source": [
        "%%R\n",
        "p2"
      ],
      "metadata": {
        "colab": {
          "base_uri": "https://localhost:8080/",
          "height": 497
        },
        "id": "YQLsMxwdlbta",
        "outputId": "2c10fec6-158f-4c66-f2ad-e141ddd19ec4"
      },
      "execution_count": 27,
      "outputs": [
        {
          "output_type": "display_data",
          "data": {
            "image/png": "[encoded data removed]"
          },
          "metadata": {}
        }
      ]
    }
  ]
}